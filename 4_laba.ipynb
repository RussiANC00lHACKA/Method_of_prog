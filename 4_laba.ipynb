{
  "nbformat": 4,
  "nbformat_minor": 0,
  "metadata": {
    "colab": {
      "provenance": [],
      "authorship_tag": "ABX9TyNir8JPJeHeoUQRxaqAK9L5",
      "include_colab_link": true
    },
    "kernelspec": {
      "name": "python3",
      "display_name": "Python 3"
    },
    "language_info": {
      "name": "python"
    }
  },
  "cells": [
    {
      "cell_type": "markdown",
      "metadata": {
        "id": "view-in-github",
        "colab_type": "text"
      },
      "source": [
        "<a href=\"https://colab.research.google.com/github/RussiANC00lHACKA/Method_of_prog/blob/main/4_laba.ipynb\" target=\"_parent\"><img src=\"https://colab.research.google.com/assets/colab-badge.svg\" alt=\"Open In Colab\"/></a>"
      ]
    },
    {
      "cell_type": "code",
      "execution_count": null,
      "metadata": {
        "colab": {
          "base_uri": "https://localhost:8080/"
        },
        "id": "Nd6lbs7O4GpZ",
        "outputId": "0dd0bcbe-0fb3-48af-8d4d-e3d5132a41ce"
      },
      "outputs": [
        {
          "output_type": "stream",
          "name": "stdout",
          "text": [
            "Hello, -f\n"
          ]
        }
      ],
      "source": [
        "import sys\n",
        "def greet(name):\n",
        "    print(\"Hello, \" + name)\n",
        "if __name__ == \"__main__\":\n",
        "    greet(sys.argv[1])\n"
      ]
    },
    {
      "cell_type": "code",
      "source": [
        "import abc\n",
        "class Report(metaclass=abc.ABCMeta):\n",
        "    @abc.abstractmethod\n",
        "    def generate_report(self, data):\n",
        "        pass\n",
        "\n",
        "class TxtReport(Report):\n",
        "    def generate_report(self, data):\n",
        "        report = \"\"\n",
        "        for row in data:\n",
        "            report += \" \".join(row) + \"\\n\"\n",
        "        return report\n",
        "\n",
        "class CsvReport(Report):\n",
        "    def generate_report(self, data):\n",
        "        report = \"\"\n",
        "        for row in data:\n",
        "            report += \",\".join(row) + \"\\n\"\n",
        "        return report\n",
        "\n",
        "class XmlReport(Report):\n",
        "    def generate_report(self, data):\n",
        "        report = \"<data>\\n\"\n",
        "        for row in data:\n",
        "            report += \"\\t<row>\"\n",
        "            for item in row:\n",
        "                report += f\"<column>{item}</column>\"\n",
        "            report += \"</row>\\n\"\n",
        "        report += \"</data>\"\n",
        "        return report\n",
        "\n",
        "class ReportFactory:\n",
        "    def create_report(self, format_type):\n",
        "        if format_type == 'txt':\n",
        "            return TxtReport()\n",
        "        elif format_type == 'csv':\n",
        "            return CsvReport()\n",
        "        elif format_type == 'xml':\n",
        "            return XmlReport()\n",
        "        else:\n",
        "            raise ValueError(\"Unsupported report format\")\n",
        "\n",
        "def read_data_from_file(file_name):\n",
        "    data = []\n",
        "    with open(file_name, 'r') as file:\n",
        "        for line in file:\n",
        "            # Разделить строку на столбцы по пробелам\n",
        "            columns = line.strip().split(\" \")\n",
        "            data.append(columns)\n",
        "    return data\n",
        "\n",
        "# Пример использования:\n",
        "file_name = 'example_code.txt'\n",
        "data = read_data_from_file(file_name)\n",
        "\n",
        "report_factory = ReportFactory()\n",
        "txt_report = report_factory.create_report('txt')\n",
        "csv_report = report_factory.create_report('csv')\n",
        "xml_report = report_factory.create_report('xml')\n",
        "\n",
        "print(txt_report.generate_report(data))\n"
      ],
      "metadata": {
        "colab": {
          "base_uri": "https://localhost:8080/"
        },
        "id": "enL7Lrrq5VVR",
        "outputId": "8e96d2b3-95db-412b-fcc3-53bf05ed4d87"
      },
      "execution_count": null,
      "outputs": [
        {
          "output_type": "stream",
          "name": "stdout",
          "text": [
            "import abc\n",
            "class Report(metaclass=abc.ABCMeta):\n",
            "@abc.abstractmethod\n",
            "def generate_report(self, data):\n",
            "pass\n",
            "\n",
            "class TxtReport(Report):\n",
            "def generate_report(self, data):\n",
            "report = \"\"\n",
            "for row in data:\n",
            "report += \" \".join(row) + \"\\n\"\n",
            "return report\n",
            "\n",
            "class CsvReport(Report):\n",
            "def generate_report(self, data):\n",
            "report = \"\"\n",
            "for row in data:\n",
            "report += \",\".join(row) + \"\\n\"\n",
            "return report\n",
            "\n",
            "class XmlReport(Report):\n",
            "def generate_report(self, data):\n",
            "report = \"<data>\\n\"\n",
            "for row in data:\n",
            "report += \"\\t<row>\"\n",
            "for item in row:\n",
            "report += f\"<column>{item}</column>\"\n",
            "report += \"</row>\\n\"\n",
            "report += \"</data>\"\n",
            "return report\n",
            "\n",
            "class ReportFactory:\n",
            "def create_report(self, format_type):\n",
            "if format_type == 'txt':\n",
            "return TxtReport()\n",
            "elif format_type == 'csv':\n",
            "return CsvReport()\n",
            "elif format_type == 'xml':\n",
            "return XmlReport()\n",
            "else:\n",
            "raise ValueError(\"Unsupported report format\")\n",
            "\n",
            "def read_data_from_file(file_name):\n",
            "data = []\n",
            "with open(file_name, 'r') as file:\n",
            "for line in file:\n",
            "# Разделить строку на столбцы по пробелам\n",
            "columns = line.strip().split(\" \")\n",
            "data.append(columns)\n",
            "return data\n",
            "\n",
            "# Пример использования:\n",
            "file_name = 'example_code.txt'\n",
            "data = read_data_from_file(file_name)\n",
            "\n",
            "report_factory = ReportFactory()\n",
            "txt_report = report_factory.create_report('txt')\n",
            "csv_report = report_factory.create_report('csv')\n",
            "xml_report = report_factory.create_report('xml')\n",
            "\n",
            "print(txt_report.generate_report(data))\n",
            "print(csv_report.generate_report(data))\n",
            "print(xml_report.generate_report(data))\n",
            "\n"
          ]
        }
      ]
    },
    {
      "cell_type": "code",
      "source": [
        "print(csv_report.generate_report(data))"
      ],
      "metadata": {
        "colab": {
          "base_uri": "https://localhost:8080/"
        },
        "id": "A0IdJP_O5sVb",
        "outputId": "385b11ef-8582-40eb-de37-c334d5390864"
      },
      "execution_count": null,
      "outputs": [
        {
          "output_type": "stream",
          "name": "stdout",
          "text": [
            "import,abc\n",
            "class,Report(metaclass=abc.ABCMeta):\n",
            "@abc.abstractmethod\n",
            "def,generate_report(self,,data):\n",
            "pass\n",
            "\n",
            "class,TxtReport(Report):\n",
            "def,generate_report(self,,data):\n",
            "report,=,\"\"\n",
            "for,row,in,data:\n",
            "report,+=,\",\".join(row),+,\"\\n\"\n",
            "return,report\n",
            "\n",
            "class,CsvReport(Report):\n",
            "def,generate_report(self,,data):\n",
            "report,=,\"\"\n",
            "for,row,in,data:\n",
            "report,+=,\",\".join(row),+,\"\\n\"\n",
            "return,report\n",
            "\n",
            "class,XmlReport(Report):\n",
            "def,generate_report(self,,data):\n",
            "report,=,\"<data>\\n\"\n",
            "for,row,in,data:\n",
            "report,+=,\"\\t<row>\"\n",
            "for,item,in,row:\n",
            "report,+=,f\"<column>{item}</column>\"\n",
            "report,+=,\"</row>\\n\"\n",
            "report,+=,\"</data>\"\n",
            "return,report\n",
            "\n",
            "class,ReportFactory:\n",
            "def,create_report(self,,format_type):\n",
            "if,format_type,==,'txt':\n",
            "return,TxtReport()\n",
            "elif,format_type,==,'csv':\n",
            "return,CsvReport()\n",
            "elif,format_type,==,'xml':\n",
            "return,XmlReport()\n",
            "else:\n",
            "raise,ValueError(\"Unsupported,report,format\")\n",
            "\n",
            "def,read_data_from_file(file_name):\n",
            "data,=,[]\n",
            "with,open(file_name,,'r'),as,file:\n",
            "for,line,in,file:\n",
            "#,Разделить,строку,на,столбцы,по,пробелам\n",
            "columns,=,line.strip().split(\",\")\n",
            "data.append(columns)\n",
            "return,data\n",
            "\n",
            "#,Пример,использования:\n",
            "file_name,=,'example_code.txt'\n",
            "data,=,read_data_from_file(file_name)\n",
            "\n",
            "report_factory,=,ReportFactory()\n",
            "txt_report,=,report_factory.create_report('txt')\n",
            "csv_report,=,report_factory.create_report('csv')\n",
            "xml_report,=,report_factory.create_report('xml')\n",
            "\n",
            "print(txt_report.generate_report(data))\n",
            "print(csv_report.generate_report(data))\n",
            "print(xml_report.generate_report(data))\n",
            "\n"
          ]
        }
      ]
    },
    {
      "cell_type": "code",
      "source": [
        "print(xml_report.generate_report(data))"
      ],
      "metadata": {
        "colab": {
          "base_uri": "https://localhost:8080/"
        },
        "id": "wnX1KBNN6KJp",
        "outputId": "aba75f57-b7e6-44e5-c2fa-52a882ae12ff"
      },
      "execution_count": null,
      "outputs": [
        {
          "output_type": "stream",
          "name": "stdout",
          "text": [
            "<data>\n",
            "\t<row><column>import</column><column>abc</column></row>\n",
            "\t<row><column>class</column><column>Report(metaclass=abc.ABCMeta):</column></row>\n",
            "\t<row><column>@abc.abstractmethod</column></row>\n",
            "\t<row><column>def</column><column>generate_report(self,</column><column>data):</column></row>\n",
            "\t<row><column>pass</column></row>\n",
            "\t<row><column></column></row>\n",
            "\t<row><column>class</column><column>TxtReport(Report):</column></row>\n",
            "\t<row><column>def</column><column>generate_report(self,</column><column>data):</column></row>\n",
            "\t<row><column>report</column><column>=</column><column>\"\"</column></row>\n",
            "\t<row><column>for</column><column>row</column><column>in</column><column>data:</column></row>\n",
            "\t<row><column>report</column><column>+=</column><column>\"</column><column>\".join(row)</column><column>+</column><column>\"\\n\"</column></row>\n",
            "\t<row><column>return</column><column>report</column></row>\n",
            "\t<row><column></column></row>\n",
            "\t<row><column>class</column><column>CsvReport(Report):</column></row>\n",
            "\t<row><column>def</column><column>generate_report(self,</column><column>data):</column></row>\n",
            "\t<row><column>report</column><column>=</column><column>\"\"</column></row>\n",
            "\t<row><column>for</column><column>row</column><column>in</column><column>data:</column></row>\n",
            "\t<row><column>report</column><column>+=</column><column>\",\".join(row)</column><column>+</column><column>\"\\n\"</column></row>\n",
            "\t<row><column>return</column><column>report</column></row>\n",
            "\t<row><column></column></row>\n",
            "\t<row><column>class</column><column>XmlReport(Report):</column></row>\n",
            "\t<row><column>def</column><column>generate_report(self,</column><column>data):</column></row>\n",
            "\t<row><column>report</column><column>=</column><column>\"<data>\\n\"</column></row>\n",
            "\t<row><column>for</column><column>row</column><column>in</column><column>data:</column></row>\n",
            "\t<row><column>report</column><column>+=</column><column>\"\\t<row>\"</column></row>\n",
            "\t<row><column>for</column><column>item</column><column>in</column><column>row:</column></row>\n",
            "\t<row><column>report</column><column>+=</column><column>f\"<column>{item}</column>\"</column></row>\n",
            "\t<row><column>report</column><column>+=</column><column>\"</row>\\n\"</column></row>\n",
            "\t<row><column>report</column><column>+=</column><column>\"</data>\"</column></row>\n",
            "\t<row><column>return</column><column>report</column></row>\n",
            "\t<row><column></column></row>\n",
            "\t<row><column>class</column><column>ReportFactory:</column></row>\n",
            "\t<row><column>def</column><column>create_report(self,</column><column>format_type):</column></row>\n",
            "\t<row><column>if</column><column>format_type</column><column>==</column><column>'txt':</column></row>\n",
            "\t<row><column>return</column><column>TxtReport()</column></row>\n",
            "\t<row><column>elif</column><column>format_type</column><column>==</column><column>'csv':</column></row>\n",
            "\t<row><column>return</column><column>CsvReport()</column></row>\n",
            "\t<row><column>elif</column><column>format_type</column><column>==</column><column>'xml':</column></row>\n",
            "\t<row><column>return</column><column>XmlReport()</column></row>\n",
            "\t<row><column>else:</column></row>\n",
            "\t<row><column>raise</column><column>ValueError(\"Unsupported</column><column>report</column><column>format\")</column></row>\n",
            "\t<row><column></column></row>\n",
            "\t<row><column>def</column><column>read_data_from_file(file_name):</column></row>\n",
            "\t<row><column>data</column><column>=</column><column>[]</column></row>\n",
            "\t<row><column>with</column><column>open(file_name,</column><column>'r')</column><column>as</column><column>file:</column></row>\n",
            "\t<row><column>for</column><column>line</column><column>in</column><column>file:</column></row>\n",
            "\t<row><column>#</column><column>Разделить</column><column>строку</column><column>на</column><column>столбцы</column><column>по</column><column>пробелам</column></row>\n",
            "\t<row><column>columns</column><column>=</column><column>line.strip().split(\"</column><column>\")</column></row>\n",
            "\t<row><column>data.append(columns)</column></row>\n",
            "\t<row><column>return</column><column>data</column></row>\n",
            "\t<row><column></column></row>\n",
            "\t<row><column>#</column><column>Пример</column><column>использования:</column></row>\n",
            "\t<row><column>file_name</column><column>=</column><column>'example_code.txt'</column></row>\n",
            "\t<row><column>data</column><column>=</column><column>read_data_from_file(file_name)</column></row>\n",
            "\t<row><column></column></row>\n",
            "\t<row><column>report_factory</column><column>=</column><column>ReportFactory()</column></row>\n",
            "\t<row><column>txt_report</column><column>=</column><column>report_factory.create_report('txt')</column></row>\n",
            "\t<row><column>csv_report</column><column>=</column><column>report_factory.create_report('csv')</column></row>\n",
            "\t<row><column>xml_report</column><column>=</column><column>report_factory.create_report('xml')</column></row>\n",
            "\t<row><column></column></row>\n",
            "\t<row><column>print(txt_report.generate_report(data))</column></row>\n",
            "\t<row><column>print(csv_report.generate_report(data))</column></row>\n",
            "\t<row><column>print(xml_report.generate_report(data))</column></row>\n",
            "</data>\n"
          ]
        }
      ]
    }
  ]
}